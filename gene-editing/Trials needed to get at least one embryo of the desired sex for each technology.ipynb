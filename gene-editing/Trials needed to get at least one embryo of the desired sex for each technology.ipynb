{
 "cells": [
  {
   "cell_type": "code",
   "execution_count": 2,
   "metadata": {
    "collapsed": true
   },
   "outputs": [],
   "source": [
    "import scipy.stats"
   ]
  },
  {
   "cell_type": "code",
   "execution_count": 3,
   "metadata": {
    "collapsed": true
   },
   "outputs": [],
   "source": [
    "edit_success = { 'crispr': 0.63, 'talen': 0.21, 'perfect': 1., 'zfn': 0.11}\n",
    "et_success = { 'crispr': 0.21, 'talen': 0.12, 'perfect': 1., 'zfn': 0.08}"
   ]
  },
  {
   "cell_type": "code",
   "execution_count": 5,
   "metadata": {
    "collapsed": false
   },
   "outputs": [
    {
     "name": "stdout",
     "output_type": "stream",
     "text": [
      "perfect\n",
      "\tEdit \t0\n",
      "\tET   \t0\n",
      "\tTotal\t0\n",
      "talen\n",
      "\tEdit \t20\n",
      "\tET   \t37\n",
      "\tTotal\t740\n",
      "zfn\n",
      "\tEdit \t40\n",
      "\tET   \t56\n",
      "\tTotal\t2240\n",
      "crispr\n",
      "\tEdit \t5\n",
      "\tET   \t20\n",
      "\tTotal\t100\n"
     ]
    }
   ],
   "source": [
    "for k in edit_success.keys():\n",
    "    print k\n",
    "    print '\\tEdit \\t%d' % ( scipy.stats.geom.ppf(0.99, edit_success[k]) )\n",
    "    print '\\tET   \\t%d' % ( scipy.stats.geom.ppf(0.99, et_success[k]) )\n",
    "    print '\\tTotal\\t%d' % ( scipy.stats.geom.ppf(0.99, edit_success[k]) * scipy.stats.geom.ppf(0.99, et_success[k]) )"
   ]
  },
  {
   "cell_type": "code",
   "execution_count": 6,
   "metadata": {
    "collapsed": false
   },
   "outputs": [
    {
     "name": "stdout",
     "output_type": "stream",
     "text": [
      "perfect\n",
      "\tEdit \t0\n",
      "\tET   \t0\n",
      "\tTotal\t0\n",
      "talen\n",
      "\tEdit \t20\n",
      "\tET   \t7\n",
      "\tTotal\t140\n",
      "zfn\n",
      "\tEdit \t40\n",
      "\tET   \t7\n",
      "\tTotal\t280\n",
      "crispr\n",
      "\tEdit \t5\n",
      "\tET   \t7\n",
      "\tTotal\t35\n"
     ]
    }
   ],
   "source": [
    "edit_success = { 'crispr': 0.63, 'talen': 0.21, 'perfect': 1., 'zfn': 0.11}\n",
    "et_success = { 'crispr': 0.5, 'talen': 0.5, 'perfect': 1., 'zfn': 0.5}\n",
    "for k in edit_success.keys():\n",
    "    print k\n",
    "    print '\\tEdit \\t%d' % ( scipy.stats.geom.ppf(0.99, edit_success[k]) )\n",
    "    print '\\tET   \\t%d' % ( scipy.stats.geom.ppf(0.99, et_success[k]) )\n",
    "    print '\\tTotal\\t%d' % ( scipy.stats.geom.ppf(0.99, edit_success[k]) * scipy.stats.geom.ppf(0.99, et_success[k]) )"
   ]
  },
  {
   "cell_type": "code",
   "execution_count": null,
   "metadata": {
    "collapsed": true
   },
   "outputs": [],
   "source": []
  }
 ],
 "metadata": {
  "kernelspec": {
   "display_name": "Python 2",
   "language": "python",
   "name": "python2"
  },
  "language_info": {
   "codemirror_mode": {
    "name": "ipython",
    "version": 2
   },
   "file_extension": ".py",
   "mimetype": "text/x-python",
   "name": "python",
   "nbconvert_exporter": "python",
   "pygments_lexer": "ipython2",
   "version": "2.7.11"
  }
 },
 "nbformat": 4,
 "nbformat_minor": 0
}
