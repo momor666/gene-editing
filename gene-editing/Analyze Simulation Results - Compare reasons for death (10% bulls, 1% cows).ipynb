{
 "cells": [
  {
   "cell_type": "code",
   "execution_count": 1,
   "metadata": {
    "collapsed": false
   },
   "outputs": [],
   "source": [
    "#__depends__ = [\"/Volumes/Seagate Expansion Drive/seq1_jcole_gene-editing_gene-editing_multiple/multiple\"]\n",
    "#__dest__ = [\"./results\"]"
   ]
  },
  {
   "cell_type": "code",
   "execution_count": 2,
   "metadata": {
    "collapsed": false
   },
   "outputs": [],
   "source": [
    "%matplotlib inline"
   ]
  },
  {
   "cell_type": "code",
   "execution_count": 3,
   "metadata": {
    "collapsed": false
   },
   "outputs": [
    {
     "name": "stderr",
     "output_type": "stream",
     "text": [
      "/home/jcole/anaconda/lib/python2.7/site-packages/IPython/core/interactiveshell.py:2869: FutureWarning: \n",
      "mpl_style had been deprecated and will be removed in a future version.\n",
      "Use `matplotlib.pyplot.style.use` instead.\n",
      "\n",
      "  exec(code_obj, self.user_global_ns, self.user_ns)\n",
      "/home/jcole/anaconda/lib/python2.7/site-packages/matplotlib/__init__.py:872: UserWarning: axes.color_cycle is deprecated and replaced with axes.prop_cycle; please use the latter.\n",
      "  warnings.warn(self.msg_depr % (key, alt_key))\n"
     ]
    }
   ],
   "source": [
    "import pandas as pd\n",
    "import matplotlib.pyplot as plt\n",
    "pd.options.display.mpl_style = 'default'\n",
    "import statsmodels.api as sm\n",
    "import itertools\n",
    "import numpy as np\n",
    "import seaborn as sns"
   ]
  },
  {
   "cell_type": "code",
   "execution_count": 4,
   "metadata": {
    "collapsed": false
   },
   "outputs": [],
   "source": [
    "plt.rcdefaults()\n",
    "# Typeface sizes\n",
    "from matplotlib import rcParams\n",
    "rcParams['axes.labelsize'] = 12\n",
    "rcParams['xtick.labelsize'] = 12\n",
    "rcParams['ytick.labelsize'] = 12\n",
    "rcParams['legend.fontsize'] = 12\n",
    "#rcParams['font.family'] = 'serif'\n",
    "#rcParams['font.serif'] = ['Computer Modern Roman']\n",
    "#rcParams['text.usetex'] = True\n",
    "\n",
    "# Optimal figure size\n",
    "WIDTH = 350.0  # the number latex spits out\n",
    "FACTOR = 0.90  # the fraction of the width you'd like the figure to occupy\n",
    "fig_width_pt  = WIDTH * FACTOR\n",
    "\n",
    "inches_per_pt = 1.0 / 72.27\n",
    "golden_ratio  = (np.sqrt(5) - 1.0) / 2.0  # because it looks good\n",
    "\n",
    "fig_width_in  = fig_width_pt * inches_per_pt  # figure width in inches\n",
    "fig_height_in = fig_width_in * golden_ratio   # figure height in inches\n",
    "fig_dims      = [fig_width_in, fig_height_in] # fig dims as a list\n",
    "\n",
    "rcParams['figure.figsize'] = fig_dims"
   ]
  },
  {
   "cell_type": "markdown",
   "metadata": {},
   "source": [
    "First, let's load the results from the small model of polled included in the default settings. This involves loading four animal files (live cows, dead cows, live bulls, and dead bulls). We will load them and merge them into a single data frame."
   ]
  },
  {
   "cell_type": "code",
   "execution_count": 17,
   "metadata": {
    "collapsed": false
   },
   "outputs": [
    {
     "name": "stdout",
     "output_type": "stream",
     "text": [
      "crispr\n",
      "\tReplicate:  1 ,  2 ,  3 ,  4 ,  5 ,  6 ,  7 ,  8 ,  9 ,  10 \n",
      "noedits\n",
      "\tReplicate:  1 ,  2 ,  3 ,  4 ,  5 ,  6 ,  7 ,  8 ,  9 ,  10 \n",
      "perfect\n",
      "\tReplicate:  1 ,  2 ,  3 ,  4 ,  5 ,  6 ,  7 ,  8 ,  9 ,  10 \n",
      "talen\n",
      "\tReplicate:  1 ,  2 ,  3 ,  4 ,  5 ,  6 ,  7 ,  8 ,  9 ,  10 \n",
      "zfn\n",
      "\tReplicate:  1 ,  2 ,  3 ,  4 ,  5 ,  6 ,  7 ,  8 ,  9 ,  10 \n"
     ]
    }
   ],
   "source": [
    "pop_edited = '10_01'\n",
    "methods = ['crispr', 'noedits', 'perfect', 'talen', 'zfn']\n",
    "for method in methods:\n",
    "    print method\n",
    "    # We have 10 replicates for each simulation\n",
    "    for sim in xrange(1,11):\n",
    "        if sim == 1: print '\\tReplicate: ', sim,\n",
    "        elif sim < 10: print ', ', sim,\n",
    "        else: print ', ', sim, ''\n",
    "        # Load the individual history files\n",
    "        lc = pd.read_csv('multiple/10_01/%s/%s/cows_history_%s_20.txt'%(method,sim,method), sep='\\t')\n",
    "        dc = pd.read_csv('multiple/10_01/%s/%s/dead_cows_history_%s_20.txt'%(method,sim,method), sep='\\t')\n",
    "        lb = pd.read_csv('multiple/10_01/%s/%s/bulls_history_%s_20.txt'%(method,sim,method), sep='\\t')\n",
    "        db = pd.read_csv('multiple/10_01/%s/%s/dead_bulls_history_%s_20.txt'%(method,sim,method), sep='\\t')\n",
    "        # Stack the individual animal datasets\n",
    "        all_animals = pd.concat([lc, dc, lb, db], axis=0)\n",
    "        all_animals['replicate'] = sim\n",
    "        all_animals['method'] = method\n",
    "    if method == methods[0]:\n",
    "        grouped = pd.crosstab(all_animals['died'], all_animals['cause']).apply(lambda r: r/r.sum(), axis=1)\n",
    "        grouped['method'] = method\n",
    "    else:\n",
    "        temp_grouped = pd.crosstab(all_animals['died'], all_animals['cause']).apply(lambda r: r/r.sum(), axis=1)\n",
    "        temp_grouped['method'] = method\n",
    "        grouped = pd.concat([grouped, temp_grouped])"
   ]
  },
  {
   "cell_type": "markdown",
   "metadata": {},
   "source": [
    "Modified Pryce's Algorithm\n",
    "====\n",
    "Causes of death (A=culled for age, N=culled for population size, R=died from recessive)"
   ]
  },
  {
   "cell_type": "code",
   "execution_count": 18,
   "metadata": {
    "collapsed": false
   },
   "outputs": [
    {
     "data": {
      "text/html": [
       "<div>\n",
       "<table border=\"1\" class=\"dataframe\">\n",
       "  <thead>\n",
       "    <tr style=\"text-align: right;\">\n",
       "      <th></th>\n",
       "      <th>A</th>\n",
       "      <th>G</th>\n",
       "      <th>N</th>\n",
       "      <th>R</th>\n",
       "      <th>method</th>\n",
       "    </tr>\n",
       "    <tr>\n",
       "      <th>died</th>\n",
       "      <th></th>\n",
       "      <th></th>\n",
       "      <th></th>\n",
       "      <th></th>\n",
       "      <th></th>\n",
       "    </tr>\n",
       "  </thead>\n",
       "  <tbody>\n",
       "    <tr>\n",
       "      <th>1</th>\n",
       "      <td>0.000000</td>\n",
       "      <td>0.086894</td>\n",
       "      <td>0.913106</td>\n",
       "      <td>NaN</td>\n",
       "      <td>crispr</td>\n",
       "    </tr>\n",
       "    <tr>\n",
       "      <th>2</th>\n",
       "      <td>0.211130</td>\n",
       "      <td>0.067447</td>\n",
       "      <td>0.721423</td>\n",
       "      <td>NaN</td>\n",
       "      <td>crispr</td>\n",
       "    </tr>\n",
       "    <tr>\n",
       "      <th>3</th>\n",
       "      <td>0.163845</td>\n",
       "      <td>0.071442</td>\n",
       "      <td>0.764713</td>\n",
       "      <td>NaN</td>\n",
       "      <td>crispr</td>\n",
       "    </tr>\n",
       "    <tr>\n",
       "      <th>4</th>\n",
       "      <td>0.071979</td>\n",
       "      <td>0.044259</td>\n",
       "      <td>0.883762</td>\n",
       "      <td>NaN</td>\n",
       "      <td>crispr</td>\n",
       "    </tr>\n",
       "    <tr>\n",
       "      <th>5</th>\n",
       "      <td>0.049247</td>\n",
       "      <td>0.043982</td>\n",
       "      <td>0.906771</td>\n",
       "      <td>NaN</td>\n",
       "      <td>crispr</td>\n",
       "    </tr>\n",
       "  </tbody>\n",
       "</table>\n",
       "</div>"
      ],
      "text/plain": [
       "             A         G         N   R  method\n",
       "died                                          \n",
       "1     0.000000  0.086894  0.913106 NaN  crispr\n",
       "2     0.211130  0.067447  0.721423 NaN  crispr\n",
       "3     0.163845  0.071442  0.764713 NaN  crispr\n",
       "4     0.071979  0.044259  0.883762 NaN  crispr\n",
       "5     0.049247  0.043982  0.906771 NaN  crispr"
      ]
     },
     "execution_count": 18,
     "metadata": {},
     "output_type": "execute_result"
    }
   ],
   "source": [
    "grouped.head()"
   ]
  },
  {
   "cell_type": "code",
   "execution_count": 22,
   "metadata": {
    "collapsed": false
   },
   "outputs": [
    {
     "data": {
      "text/html": [
       "<div>\n",
       "<table border=\"1\" class=\"dataframe\">\n",
       "  <thead>\n",
       "    <tr style=\"text-align: right;\">\n",
       "      <th></th>\n",
       "      <th>died</th>\n",
       "      <th>A</th>\n",
       "      <th>G</th>\n",
       "      <th>N</th>\n",
       "      <th>R</th>\n",
       "      <th>method</th>\n",
       "    </tr>\n",
       "  </thead>\n",
       "  <tbody>\n",
       "    <tr>\n",
       "      <th>95</th>\n",
       "      <td>16</td>\n",
       "      <td>0.057552</td>\n",
       "      <td>0.050767</td>\n",
       "      <td>0.891680</td>\n",
       "      <td>NaN</td>\n",
       "      <td>zfn</td>\n",
       "    </tr>\n",
       "    <tr>\n",
       "      <th>96</th>\n",
       "      <td>17</td>\n",
       "      <td>0.057442</td>\n",
       "      <td>0.051037</td>\n",
       "      <td>0.891521</td>\n",
       "      <td>NaN</td>\n",
       "      <td>zfn</td>\n",
       "    </tr>\n",
       "    <tr>\n",
       "      <th>97</th>\n",
       "      <td>18</td>\n",
       "      <td>0.056070</td>\n",
       "      <td>0.050801</td>\n",
       "      <td>0.893128</td>\n",
       "      <td>NaN</td>\n",
       "      <td>zfn</td>\n",
       "    </tr>\n",
       "    <tr>\n",
       "      <th>98</th>\n",
       "      <td>19</td>\n",
       "      <td>0.056336</td>\n",
       "      <td>0.050862</td>\n",
       "      <td>0.892802</td>\n",
       "      <td>NaN</td>\n",
       "      <td>zfn</td>\n",
       "    </tr>\n",
       "    <tr>\n",
       "      <th>99</th>\n",
       "      <td>20</td>\n",
       "      <td>0.055711</td>\n",
       "      <td>0.050623</td>\n",
       "      <td>0.893666</td>\n",
       "      <td>NaN</td>\n",
       "      <td>zfn</td>\n",
       "    </tr>\n",
       "  </tbody>\n",
       "</table>\n",
       "</div>"
      ],
      "text/plain": [
       "    died         A         G         N   R method\n",
       "95    16  0.057552  0.050767  0.891680 NaN    zfn\n",
       "96    17  0.057442  0.051037  0.891521 NaN    zfn\n",
       "97    18  0.056070  0.050801  0.893128 NaN    zfn\n",
       "98    19  0.056336  0.050862  0.892802 NaN    zfn\n",
       "99    20  0.055711  0.050623  0.893666 NaN    zfn"
      ]
     },
     "execution_count": 22,
     "metadata": {},
     "output_type": "execute_result"
    }
   ],
   "source": [
    "grouped.tail()"
   ]
  },
  {
   "cell_type": "code",
   "execution_count": 19,
   "metadata": {
    "collapsed": false
   },
   "outputs": [],
   "source": [
    "grouped = grouped.reset_index()"
   ]
  },
  {
   "cell_type": "code",
   "execution_count": 20,
   "metadata": {
    "collapsed": false
   },
   "outputs": [
    {
     "data": {
      "text/plain": [
       "Index([u'died', u'A', u'G', u'N', u'R', u'method'], dtype='object')"
      ]
     },
     "execution_count": 20,
     "metadata": {},
     "output_type": "execute_result"
    }
   ],
   "source": [
    "grouped.columns"
   ]
  },
  {
   "cell_type": "code",
   "execution_count": 23,
   "metadata": {
    "collapsed": true
   },
   "outputs": [],
   "source": [
    "grouped['R'].fillna(0.0, inplace=True)"
   ]
  },
  {
   "cell_type": "code",
   "execution_count": 24,
   "metadata": {
    "collapsed": false
   },
   "outputs": [
    {
     "data": {
      "image/png": "[encoded data removed]",
      "text/plain": [
       "<matplotlib.figure.Figure at 0x7fba9aba4110>"
      ]
     },
     "metadata": {},
     "output_type": "display_data"
    }
   ],
   "source": [
    "fig = plt.figure(figsize=(12, 9), dpi=300, facecolor='white')\n",
    "\n",
    "# Set nicer limits\n",
    "ymin ,ymax = 0, 0.10\n",
    "xmin, xmax = 0, 31\n",
    "\n",
    "colors = itertools.cycle(['r', 'g', 'b','k'])\n",
    "markers = itertools.cycle(['o', 'v', 's'])\n",
    "\n",
    "ax = fig.add_subplot(1, 1, 1)\n",
    "ax.set_title('Embryonic losses (10% of bulls and 1% of cows edited)')\n",
    "ax.set_xlabel('Birth year')\n",
    "ax.set_ylabel('Proportion of embryonic losses')\n",
    "ax.plot(grouped['died'][grouped['method']=='crispr'], grouped['R'][grouped['method']=='crispr'], label='crispr', linewidth=2, marker=markers.next(), c=colors.next())\n",
    "ax.plot(grouped['died'][grouped['method']=='noedits'], grouped['R'][grouped['method']=='noedits'], label='noedits', linewidth=2, marker=markers.next(), c=colors.next())\n",
    "ax.plot(grouped['died'][grouped['method']=='perfect'], grouped['R'][grouped['method']=='perfect'], label='perfect', linewidth=2, marker=markers.next(), c=colors.next())\n",
    "ax.plot(grouped['died'][grouped['method']=='talen'], grouped['R'][grouped['method']=='talen'], label='talen', linewidth=2, marker=markers.next(), c=colors.next())\n",
    "ax.plot(grouped['died'][grouped['method']=='zfn'], grouped['R'][grouped['method']=='zfn'], label='zfn', linewidth=2, marker=markers.next(), c=colors.next())\n",
    "ax.legend(loc='best')\n",
    "\n",
    "ax.set_ylim(ymin, ymax)\n",
    "\n",
    "# Despine\n",
    "ax = fig.gca()\n",
    "ax.spines['right'].set_color('none')\n",
    "ax.spines['top'].set_color('none')\n",
    "ax.xaxis.set_ticks_position('bottom')\n",
    "ax.yaxis.set_ticks_position('left')\n",
    "\n",
    "# Plot and save\n",
    "fig.tight_layout(pad=0.1)  # Make the figure use all available whitespace\n",
    "fig.savefig('multiple/10_01/embryonic losses_10_01.png', dpi=300)\n",
    "plt.show()"
   ]
  },
  {
   "cell_type": "code",
   "execution_count": 49,
   "metadata": {
    "collapsed": false
   },
   "outputs": [
    {
     "data": {
      "text/html": [
       "<div style=\"max-height:1000px;max-width:1500px;overflow:auto;\">\n",
       "<table border=\"1\" class=\"dataframe\">\n",
       "  <thead>\n",
       "    <tr style=\"text-align: right;\">\n",
       "      <th></th>\n",
       "      <th>ran</th>\n",
       "      <th>toppct</th>\n",
       "      <th>pryce</th>\n",
       "      <th>pryce_r</th>\n",
       "    </tr>\n",
       "    <tr>\n",
       "      <th>died</th>\n",
       "      <th></th>\n",
       "      <th></th>\n",
       "      <th></th>\n",
       "      <th></th>\n",
       "    </tr>\n",
       "  </thead>\n",
       "  <tbody>\n",
       "    <tr>\n",
       "      <th>1 </th>\n",
       "      <td> 0.006688</td>\n",
       "      <td> 0.009867</td>\n",
       "      <td> 0.011054</td>\n",
       "      <td> 0.011179</td>\n",
       "    </tr>\n",
       "    <tr>\n",
       "      <th>2 </th>\n",
       "      <td> 0.005479</td>\n",
       "      <td> 0.007630</td>\n",
       "      <td> 0.007873</td>\n",
       "      <td> 0.008147</td>\n",
       "    </tr>\n",
       "    <tr>\n",
       "      <th>3 </th>\n",
       "      <td> 0.005554</td>\n",
       "      <td> 0.008089</td>\n",
       "      <td> 0.017121</td>\n",
       "      <td> 0.013519</td>\n",
       "    </tr>\n",
       "    <tr>\n",
       "      <th>4 </th>\n",
       "      <td> 0.003286</td>\n",
       "      <td> 0.005152</td>\n",
       "      <td> 0.013047</td>\n",
       "      <td> 0.013193</td>\n",
       "    </tr>\n",
       "    <tr>\n",
       "      <th>5 </th>\n",
       "      <td> 0.003229</td>\n",
       "      <td> 0.004898</td>\n",
       "      <td> 0.012750</td>\n",
       "      <td> 0.013470</td>\n",
       "    </tr>\n",
       "    <tr>\n",
       "      <th>6 </th>\n",
       "      <td> 0.002891</td>\n",
       "      <td> 0.004765</td>\n",
       "      <td> 0.013840</td>\n",
       "      <td> 0.013652</td>\n",
       "    </tr>\n",
       "    <tr>\n",
       "      <th>7 </th>\n",
       "      <td> 0.003002</td>\n",
       "      <td> 0.005635</td>\n",
       "      <td> 0.012491</td>\n",
       "      <td> 0.013074</td>\n",
       "    </tr>\n",
       "    <tr>\n",
       "      <th>8 </th>\n",
       "      <td> 0.002809</td>\n",
       "      <td> 0.004478</td>\n",
       "      <td> 0.013782</td>\n",
       "      <td> 0.009716</td>\n",
       "    </tr>\n",
       "    <tr>\n",
       "      <th>9 </th>\n",
       "      <td> 0.002675</td>\n",
       "      <td> 0.004963</td>\n",
       "      <td> 0.010020</td>\n",
       "      <td> 0.008837</td>\n",
       "    </tr>\n",
       "    <tr>\n",
       "      <th>10</th>\n",
       "      <td> 0.002753</td>\n",
       "      <td> 0.004816</td>\n",
       "      <td> 0.011554</td>\n",
       "      <td> 0.009599</td>\n",
       "    </tr>\n",
       "    <tr>\n",
       "      <th>11</th>\n",
       "      <td> 0.002519</td>\n",
       "      <td> 0.004483</td>\n",
       "      <td> 0.009535</td>\n",
       "      <td> 0.010673</td>\n",
       "    </tr>\n",
       "    <tr>\n",
       "      <th>12</th>\n",
       "      <td> 0.002476</td>\n",
       "      <td> 0.003473</td>\n",
       "      <td> 0.012545</td>\n",
       "      <td> 0.015256</td>\n",
       "    </tr>\n",
       "    <tr>\n",
       "      <th>13</th>\n",
       "      <td> 0.002467</td>\n",
       "      <td> 0.004441</td>\n",
       "      <td> 0.013633</td>\n",
       "      <td> 0.022581</td>\n",
       "    </tr>\n",
       "    <tr>\n",
       "      <th>14</th>\n",
       "      <td> 0.002323</td>\n",
       "      <td> 0.004413</td>\n",
       "      <td> 0.012872</td>\n",
       "      <td> 0.019380</td>\n",
       "    </tr>\n",
       "    <tr>\n",
       "      <th>15</th>\n",
       "      <td> 0.002273</td>\n",
       "      <td> 0.004632</td>\n",
       "      <td> 0.015441</td>\n",
       "      <td> 0.021324</td>\n",
       "    </tr>\n",
       "    <tr>\n",
       "      <th>16</th>\n",
       "      <td> 0.002268</td>\n",
       "      <td> 0.004441</td>\n",
       "      <td> 0.013759</td>\n",
       "      <td> 0.020638</td>\n",
       "    </tr>\n",
       "    <tr>\n",
       "      <th>17</th>\n",
       "      <td> 0.002143</td>\n",
       "      <td> 0.004215</td>\n",
       "      <td> 0.008197</td>\n",
       "      <td> 0.012865</td>\n",
       "    </tr>\n",
       "    <tr>\n",
       "      <th>18</th>\n",
       "      <td> 0.001955</td>\n",
       "      <td> 0.005014</td>\n",
       "      <td> 0.008122</td>\n",
       "      <td> 0.010591</td>\n",
       "    </tr>\n",
       "    <tr>\n",
       "      <th>19</th>\n",
       "      <td> 0.001957</td>\n",
       "      <td> 0.004559</td>\n",
       "      <td> 0.006978</td>\n",
       "      <td> 0.008277</td>\n",
       "    </tr>\n",
       "    <tr>\n",
       "      <th>20</th>\n",
       "      <td> 0.000000</td>\n",
       "      <td> 0.000011</td>\n",
       "      <td> 0.000324</td>\n",
       "      <td> 0.000000</td>\n",
       "    </tr>\n",
       "  </tbody>\n",
       "</table>\n",
       "</div>"
      ],
      "text/plain": [
       "           ran    toppct     pryce   pryce_r\n",
       "died                                        \n",
       "1     0.006688  0.009867  0.011054  0.011179\n",
       "2     0.005479  0.007630  0.007873  0.008147\n",
       "3     0.005554  0.008089  0.017121  0.013519\n",
       "4     0.003286  0.005152  0.013047  0.013193\n",
       "5     0.003229  0.004898  0.012750  0.013470\n",
       "6     0.002891  0.004765  0.013840  0.013652\n",
       "7     0.003002  0.005635  0.012491  0.013074\n",
       "8     0.002809  0.004478  0.013782  0.009716\n",
       "9     0.002675  0.004963  0.010020  0.008837\n",
       "10    0.002753  0.004816  0.011554  0.009599\n",
       "11    0.002519  0.004483  0.009535  0.010673\n",
       "12    0.002476  0.003473  0.012545  0.015256\n",
       "13    0.002467  0.004441  0.013633  0.022581\n",
       "14    0.002323  0.004413  0.012872  0.019380\n",
       "15    0.002273  0.004632  0.015441  0.021324\n",
       "16    0.002268  0.004441  0.013759  0.020638\n",
       "17    0.002143  0.004215  0.008197  0.012865\n",
       "18    0.001955  0.005014  0.008122  0.010591\n",
       "19    0.001957  0.004559  0.006978  0.008277\n",
       "20    0.000000  0.000011  0.000324  0.000000"
      ]
     },
     "execution_count": 49,
     "metadata": {},
     "output_type": "execute_result"
    }
   ],
   "source": [
    "margins"
   ]
  },
  {
   "cell_type": "code",
   "execution_count": null,
   "metadata": {
    "collapsed": false
   },
   "outputs": [],
   "source": []
  }
 ],
 "metadata": {
  "kernelspec": {
   "display_name": "Python 2",
   "language": "python",
   "name": "python2"
  },
  "language_info": {
   "codemirror_mode": {
    "name": "ipython",
    "version": 2
   },
   "file_extension": ".py",
   "mimetype": "text/x-python",
   "name": "python",
   "nbconvert_exporter": "python",
   "pygments_lexer": "ipython2",
   "version": "2.7.12"
  }
 },
 "nbformat": 4,
 "nbformat_minor": 0
}
