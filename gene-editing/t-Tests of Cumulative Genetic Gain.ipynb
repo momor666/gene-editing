{
 "cells": [
  {
   "cell_type": "markdown",
   "metadata": {},
   "source": [
    "This worksheet includes the t-tests use to determine if rates of gain differ among scenarios. Specifically, does each editing scenario differ from the \"noedits\" base case, as well as, does the rate of gain within methods vary based on the proportion of animals edited."
   ]
  },
  {
   "cell_type": "code",
   "execution_count": 1,
   "metadata": {
    "collapsed": true
   },
   "outputs": [],
   "source": [
    "import scipy.stats as stats"
   ]
  },
  {
   "cell_type": "code",
   "execution_count": 8,
   "metadata": {
    "collapsed": false
   },
   "outputs": [],
   "source": [
    "sample_stats = {\n",
    "    '01_00': {\n",
    "        'all': {\n",
    "            'crispr':  {'s_mean':303138.417293, 's_std':8416.7110846, 's_n':10},\n",
    "            'noedits': {'s_mean':342187.213993, 's_std':9728.71691188, 's_n':10},\n",
    "            'perfect': {'s_mean':346087.672725, 's_std':9783.80876812, 's_n':10},\n",
    "            'talen':   {'s_mean':292069.678028, 's_std':8078.1479302, 's_n':10},\n",
    "            'zfn':     {'s_mean':289700.887676, 's_std':7977.01337275, 's_n':10},\n",
    "            },\n",
    "        'horned': {\n",
    "            'crispr':  {'s_mean':302564.636384, 's_std':8403.58223586, 's_n':10},\n",
    "            'noedits': {'s_mean':344956.580954, 's_std':9791.1546936, 's_n':10},\n",
    "            'perfect': {'s_mean':345865.062233, 's_std':9786.05060032, 's_n':10},\n",
    "            'talen':   {'s_mean':295344.085676, 's_std':8139.79102788, 's_n':10},\n",
    "            'zfn':     {'s_mean':292997.457988, 's_std':7990.78092992, 's_n':10},\n",
    "            },\n",
    "    },\n",
    "    '10_01': {\n",
    "        'all': {\n",
    "            'crispr':  {'s_mean':276025.745195, 's_std':7569.17149274, 's_n':10},\n",
    "            'noedits': {'s_mean':345283.385014, 's_std':9768.11499647, 's_n':10},\n",
    "            'perfect': {'s_mean':346050.437728, 's_std':9804.53554549, 's_n':10},\n",
    "            'talen':   {'s_mean':251703.779485, 's_std':6859.47794086, 's_n':10},\n",
    "            'zfn':     {'s_mean':235045.754069, 's_std':6309.36132342, 's_n':10},\n",
    "            },\n",
    "        'horned': {\n",
    "            'crispr':  {'s_mean':274945.65872, 's_std':7559.8885364, 's_n':10},\n",
    "            'noedits': {'s_mean':344325.284815, 's_std':9770.60946029, 's_n':10},\n",
    "            'perfect': {'s_mean':344335.68879, 's_std':9804.53554549, 's_n':10},\n",
    "            'talen':   {'s_mean':251252.190607, 's_std':9748.58963668, 's_n':10},\n",
    "            'zfn':     {'s_mean':234885.991949, 's_std':6311.27201115, 's_n':10},\n",
    "            },\n",
    "    },\n",
    "}"
   ]
  },
  {
   "cell_type": "markdown",
   "metadata": {},
   "source": [
    "Does each editing scenario differ from the \"noedits\" base case?"
   ]
  },
  {
   "cell_type": "code",
   "execution_count": 26,
   "metadata": {
    "collapsed": false,
    "scrolled": true
   },
   "outputs": [
    {
     "name": "stdout",
     "output_type": "stream",
     "text": [
      "01_00  all      zfn    : d = -52486.3  t = 13.1927  p = 1.79817e-10\n",
      "01_00  all      talen  : d = -50117.5  t = 12.5331  p = 3.81669e-10\n",
      "01_00  all      crispr : d = -39048.8  t = 9.59894  p = 2.01495e-08\n",
      "01_00  all      perfect: d = 3900.46  t = -0.893955  p = 0.383144\n",
      "01_00  horned   zfn    : d = -51959.1  t = 13.0012  p = 2.31787e-10\n",
      "01_00  horned   talen  : d = -49612.5  t = 12.3217  p = 4.96329e-10\n",
      "01_00  horned   crispr : d = -42391.9  t = 10.3895  p = 6.23191e-09\n",
      "01_00  horned   perfect: d = 908.481  t = -0.20753  p = 0.837926\n",
      "10_01  all      zfn    : d = -110238  t = 29.978  p = 4.47958e-15\n",
      "10_01  all      talen  : d = -93579.6  t = 24.7926  p = 2.81083e-14\n",
      "10_01  all      crispr : d = -69257.6  t = 17.723  p = 2.26433e-12\n",
      "10_01  all      perfect: d = 767.053  t = -0.175263  p = 0.86283\n",
      "10_01  horned   zfn    : d = -109439  t = 29.7529  p = 5.01811e-15\n",
      "10_01  horned   talen  : d = -93073.1  t = 21.3244  p = 3.17562e-14\n",
      "10_01  horned   crispr : d = -69379.6  t = 17.7595  p = 2.21579e-12\n",
      "10_01  horned   perfect: d = 10.404  t = -0.00237689  p = 0.99813\n"
     ]
    }
   ],
   "source": [
    "for k1 in sample_stats.keys():\n",
    "    for k2 in sample_stats['01_00'].keys():\n",
    "        for k3 in ['zfn', 'talen', 'crispr', 'perfect']:\n",
    "            t2, p2 = stats.ttest_ind_from_stats(\n",
    "                    sample_stats[k1][k2]['noedits']['s_mean'],\n",
    "                    sample_stats[k1][k2]['noedits']['s_std'],\n",
    "                    sample_stats[k1][k2]['noedits']['s_n'],\n",
    "                    sample_stats[k1][k2][k3]['s_mean'],\n",
    "                    sample_stats[k1][k2][k3]['s_std'],\n",
    "                    sample_stats[k1][k2][k3]['s_n'],\n",
    "                    equal_var=False\n",
    "                )\n",
    "            s_diff = sample_stats[k1][k2][k3]['s_mean'] - \\\n",
    "                     sample_stats[k1][k2]['noedits']['s_mean']\n",
    "            print(\"%s %s %s: d = %g  t = %g  p = %g\" % (k1.ljust(6),\n",
    "                                                          k2.ljust(8),\n",
    "                                                          k3.ljust(7),\n",
    "                                                          s_diff,\n",
    "                                                          t2,\n",
    "                                                          p2)\n",
    "                 )"
   ]
  },
  {
   "cell_type": "markdown",
   "metadata": {},
   "source": [
    "Does the cumulative rate of gain within methods vary based on the proportion of animals edited?"
   ]
  },
  {
   "cell_type": "code",
   "execution_count": 20,
   "metadata": {
    "collapsed": false
   },
   "outputs": [
    {
     "name": "stdout",
     "output_type": "stream",
     "text": [
      "all   \tperfect : d = -37.235  t = 0.00850097  p = 0.993311\n",
      "all   \tnoedits : d = 3096.17  t = -0.710191  p = 0.486686\n",
      "all   \ttalen   : d = -40365.9  t = 12.045  p = 6.51925e-10\n",
      "all   \tzfn     : d = -54655.1  t = 16.9936  p = 3.8354e-12\n",
      "all   \tcrispr  : d = -27112.7  t = 7.57428  p = 5.68249e-07\n",
      "horned\tperfect : d = -1529.37  t = 0.349125  p = 0.731046\n",
      "horned\tnoedits : d = -631.296  t = 0.144324  p = 0.886848\n",
      "horned\ttalen   : d = -44091.9  t = 10.9788  p = 2.93179e-09\n",
      "horned\tzfn     : d = -58111.5  t = 18.047  p = 1.45984e-12\n",
      "horned\tcrispr  : d = -27619  t = 7.72662  p = 4.31051e-07\n"
     ]
    }
   ],
   "source": [
    "for k1 in ['all', 'horned']:\n",
    "    for k2 in sample_stats['01_00']['all'].keys():\n",
    "        t2, p2 = stats.ttest_ind_from_stats(\n",
    "            sample_stats['01_00'][k1][k2]['s_mean'],\n",
    "            sample_stats['01_00'][k1][k2]['s_std'],\n",
    "            sample_stats['01_00'][k1][k2]['s_n'],\n",
    "            sample_stats['10_01'][k1][k2]['s_mean'],\n",
    "            sample_stats['10_01'][k1][k2]['s_std'],\n",
    "            sample_stats['10_01'][k1][k2]['s_n'],\n",
    "            equal_var=False\n",
    "        )\n",
    "        s_diff = sample_stats['10_01'][k1][k2]['s_mean'] - \\\n",
    "                 sample_stats['01_00'][k1][k2]['s_mean']\n",
    "        print(\"%s\\t%s: d = %g  t = %g  p = %g\" % (k1.ljust(6),\n",
    "                                           k2.ljust(8),\n",
    "                                           s_diff,\n",
    "                                           t2,\n",
    "                                           p2)\n",
    "             )"
   ]
  },
  {
   "cell_type": "code",
   "execution_count": null,
   "metadata": {
    "collapsed": true
   },
   "outputs": [],
   "source": []
  }
 ],
 "metadata": {
  "kernelspec": {
   "display_name": "Python 2",
   "language": "python",
   "name": "python2"
  },
  "language_info": {
   "codemirror_mode": {
    "name": "ipython",
    "version": 2
   },
   "file_extension": ".py",
   "mimetype": "text/x-python",
   "name": "python",
   "nbconvert_exporter": "python",
   "pygments_lexer": "ipython2",
   "version": "2.7.11"
  }
 },
 "nbformat": 4,
 "nbformat_minor": 0
}
